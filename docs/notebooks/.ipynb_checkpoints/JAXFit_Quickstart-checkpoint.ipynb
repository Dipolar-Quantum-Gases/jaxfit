{
 "cells": [
  {
   "cell_type": "markdown",
   "metadata": {
    "id": "y8YjFBWflUg1"
   },
   "source": [
    "# JAXFIT Quickstart\n",
    "\n",
    "[![Open In Colab](https://colab.research.google.com/assets/colab-badge.svg)](https://colab.research.google.com/github/Dipolar-Quantum-Gases/jaxfit/blob/main/docs/notebooks/JAXFit%20Quickstart.ipynb)"
   ]
  },
  {
   "cell_type": "markdown",
   "metadata": {
    "id": "ayziQwXnEY_b"
   },
   "source": [
    "## Installing and Importing\n",
    "\n",
    "Make sure your runtime type is set to GPU rather than CPU. Then we install JAXFit with pip"
   ]
  },
  {
   "cell_type": "code",
   "execution_count": 1,
   "metadata": {
    "colab": {
     "base_uri": "https://localhost:8080/"
    },
    "id": "rMAsUfuVtr9R",
    "outputId": "e8c38d90-8b9b-444a-8505-f6450a3fb152"
   },
   "outputs": [
    {
     "name": "stdout",
     "output_type": "stream",
     "text": [
      "Looking in indexes: https://pypi.org/simple, https://us-python.pkg.dev/colab-wheels/public/simple/\n",
      "Collecting jaxfit\n",
      "  Downloading jaxfit-0.0.4-py3-none-any.whl (38 kB)\n",
      "Requirement already satisfied: JAX>=0.3.7 in /usr/local/lib/python3.8/dist-packages (from jaxfit) (0.3.25)\n",
      "Requirement already satisfied: numpy in /usr/local/lib/python3.8/dist-packages (from jaxfit) (1.21.6)\n",
      "Requirement already satisfied: scipy>=1.7.0 in /usr/local/lib/python3.8/dist-packages (from jaxfit) (1.7.3)\n",
      "Requirement already satisfied: matplotlib in /usr/local/lib/python3.8/dist-packages (from jaxfit) (3.2.2)\n",
      "Requirement already satisfied: opt-einsum in /usr/local/lib/python3.8/dist-packages (from JAX>=0.3.7->jaxfit) (3.3.0)\n",
      "Requirement already satisfied: typing-extensions in /usr/local/lib/python3.8/dist-packages (from JAX>=0.3.7->jaxfit) (4.4.0)\n",
      "Requirement already satisfied: cycler>=0.10 in /usr/local/lib/python3.8/dist-packages (from matplotlib->jaxfit) (0.11.0)\n",
      "Requirement already satisfied: kiwisolver>=1.0.1 in /usr/local/lib/python3.8/dist-packages (from matplotlib->jaxfit) (1.4.4)\n",
      "Requirement already satisfied: python-dateutil>=2.1 in /usr/local/lib/python3.8/dist-packages (from matplotlib->jaxfit) (2.8.2)\n",
      "Requirement already satisfied: pyparsing!=2.0.4,!=2.1.2,!=2.1.6,>=2.0.1 in /usr/local/lib/python3.8/dist-packages (from matplotlib->jaxfit) (3.0.9)\n",
      "Requirement already satisfied: six>=1.5 in /usr/local/lib/python3.8/dist-packages (from python-dateutil>=2.1->matplotlib->jaxfit) (1.15.0)\n",
      "Installing collected packages: jaxfit\n",
      "Successfully installed jaxfit-0.0.4\n"
     ]
    }
   ],
   "source": [
    "!pip install jaxfit "
   ]
  },
  {
   "cell_type": "markdown",
   "metadata": {
    "id": "LX27Wg8QEfCz"
   },
   "source": [
    "Import JAXFit before importing JAX since we need JAXFit to set all the JAX computation to use 64 rather than 32 bit arrays."
   ]
  },
  {
   "cell_type": "code",
   "execution_count": 2,
   "metadata": {
    "id": "8coF-pvXubXp"
   },
   "outputs": [],
   "source": [
    "from jaxfit import CurveFit\n",
    "import jax.numpy as jnp"
   ]
  },
  {
   "cell_type": "markdown",
   "metadata": {
    "id": "jNMc8LzTEp2i"
   },
   "source": [
    "Now let's define a 2D Gaussian using jax.numpy. You can construct function just like numpy with a few small caveats (see [current gotchas](https://github.com/Dipolar-Quantum-Gases/jaxfit#current-gotchas))."
   ]
  },
  {
   "cell_type": "code",
   "execution_count": 3,
   "metadata": {
    "id": "tgTayxhD74wZ"
   },
   "outputs": [],
   "source": [
    "def linear(x, m, b):\n",
    "  return m * x + b"
   ]
  },
  {
   "cell_type": "markdown",
   "metadata": {
    "id": "lfq-HUhQE8K6"
   },
   "source": [
    "Using the function we just created, we'll simulate some synthetic fit data and show what it looks like."
   ]
  },
  {
   "cell_type": "code",
   "execution_count": 4,
   "metadata": {
    "colab": {
     "base_uri": "https://localhost:8080/",
     "height": 281
    },
    "id": "ZXR3TAVeAdZT",
    "outputId": "94e7ac5f-1cfc-4fbb-b91d-00ea3a66fc74"
   },
   "outputs": [
    {
     "data": {
      "image/png": "[encoded data removed]",
      "text/plain": [
       "<Figure size 432x288 with 1 Axes>"
      ]
     },
     "metadata": {
      "needs_background": "light"
     },
     "output_type": "display_data"
    }
   ],
   "source": [
    "import numpy as np\n",
    "import matplotlib.pyplot as plt\n",
    "\n",
    "# make the synthetic data\n",
    "length = 1000\n",
    "x = np.linspace(0, 10, length)\n",
    "params = (3, 5)\n",
    "y = linear(x, *params) \n",
    "# add a little noise to the data to make things interesting\n",
    "y += np.random.normal(0, 0.2, size=length)\n",
    "\n",
    "plt.figure()\n",
    "plt.title('Some Noisy Data')\n",
    "plt.plot(x, y)\n",
    "plt.show()"
   ]
  },
  {
   "cell_type": "markdown",
   "metadata": {
    "id": "N6PpNesO_5iy"
   },
   "source": [
    "Now let's use JAXFit to fit this data"
   ]
  },
  {
   "cell_type": "code",
   "execution_count": 5,
   "metadata": {
    "colab": {
     "base_uri": "https://localhost:8080/"
    },
    "id": "jHRYEtBe_rWV",
    "outputId": "c1215292-0c1b-4057-8135-1c75bd05d656"
   },
   "outputs": [
    {
     "name": "stdout",
     "output_type": "stream",
     "text": [
      "Actual Parameters (3, 5)\n",
      "Fit Parameters [2.99789564 5.00665804]\n"
     ]
    }
   ],
   "source": [
    "jcf = CurveFit()\n",
    "popt, pcov = jcf.curve_fit(linear, x, y, p0=(1,1))\n",
    "y_fit = linear(x, *popt) \n",
    "\n",
    "print('Actual Parameters', params)\n",
    "print('Fit Parameters', popt)"
   ]
  },
  {
   "cell_type": "markdown",
   "metadata": {
    "id": "c5I_AXHQAMDz"
   },
   "source": [
    "Now we'll take a look at JAXFit's speed. We do the same fit as above with $3\\times 10^5$ data points for twenty different sets of data and plot the speed for each of these fits."
   ]
  },
  {
   "cell_type": "code",
   "execution_count": 6,
   "metadata": {
    "colab": {
     "base_uri": "https://localhost:8080/",
     "height": 312
    },
    "id": "-LwtCrpL31RE",
    "outputId": "18d006ac-77bd-4300-e430-2e708fbb4007"
   },
   "outputs": [
    {
     "data": {
      "text/plain": [
       "Text(0, 0.5, 'Fit Time (seconds)')"
      ]
     },
     "execution_count": 6,
     "metadata": {},
     "output_type": "execute_result"
    },
    {
     "data": {
      "image/png": "[encoded data removed]",
      "text/plain": [
       "<Figure size 432x288 with 1 Axes>"
      ]
     },
     "metadata": {
      "needs_background": "light"
     },
     "output_type": "display_data"
    }
   ],
   "source": [
    "from scipy.optimize import curve_fit\n",
    "import time\n",
    "\n",
    "def get_random_parameters(mmin=1, mmax=10, bmin=0, bmax=10):\n",
    "  deltam = mmax - mmin\n",
    "  deltab = bmax - bmin\n",
    "  m = mmin + deltam * np.random.random()\n",
    "  b = bmin + deltab * np.random.random()\n",
    "  return m, b\n",
    "  \n",
    "  \n",
    "length = 3 * 10**5\n",
    "x = np.linspace(0, 10, length)\n",
    "\n",
    "jcf = CurveFit()\n",
    "jax_fit_times = []\n",
    "scipy_fit_times = []\n",
    "nsamples = 21\n",
    "for i in range(nsamples):\n",
    "  params = get_random_parameters()\n",
    "  y = linear(x, *params) + np.random.normal(0, 0.2, size=length)\n",
    "\n",
    "  # fit the data\n",
    "  start_time = time.time()\n",
    "  popt1, pcov1 = jcf.curve_fit(linear, x, y, p0=(1,1))\n",
    "  jax_fit_times.append(time.time() - start_time)\n",
    "\n",
    "plt.figure()\n",
    "plt.title('Fit Speeds')\n",
    "plt.plot(jax_fit_times, label='JAXFit')\n",
    "plt.xlabel('Fit Iteration')\n",
    "plt.ylabel('Fit Time (seconds)')"
   ]
  },
  {
   "cell_type": "markdown",
   "metadata": {
    "id": "KsgRWMrfAqMi"
   },
   "source": [
    "As you can see, the first fit is quite slow as JAX is tracing all the functions in the JAXFit CurveFit object behind the scenes. However, after it has traced them once then it runs extremely quickly. "
   ]
  },
  {
   "cell_type": "markdown",
   "metadata": {
    "id": "25Y8PvwWlUg_"
   },
   "source": [
    "## Varying Fit Data Array Size\n",
    "\n",
    "What happens if we change the size of the data for each of these random fits though. Here we increase the data size from $10^3$ to $10^6$ and look at the fit speed."
   ]
  },
  {
   "cell_type": "code",
   "execution_count": 7,
   "metadata": {
    "colab": {
     "base_uri": "https://localhost:8080/",
     "height": 330
    },
    "id": "EwgOIIWQ1lhj",
    "outputId": "bc548225-97aa-4bb8-c5a6-556e7658a3d9"
   },
   "outputs": [
    {
     "name": "stdout",
     "output_type": "stream",
     "text": [
      "Summed Fit Times 17.004757165908813\n"
     ]
    },
    {
     "data": {
      "text/plain": [
       "Text(0, 0.5, 'Fit Time (seconds)')"
      ]
     },
     "execution_count": 7,
     "metadata": {},
     "output_type": "execute_result"
    },
    {
     "data": {
      "image/png": "[encoded data removed]",
      "text/plain": [
       "<Figure size 432x288 with 1 Axes>"
      ]
     },
     "metadata": {
      "needs_background": "light"
     },
     "output_type": "display_data"
    }
   ],
   "source": [
    "def get_coordinates(length, xmin=0, xmax=10):\n",
    "  return np.linspace(xmin, xmax, length)\n",
    "\n",
    "\n",
    "def get_random_data(length):\n",
    "  xdata = get_coordinates(length)\n",
    "  params = get_random_parameters()\n",
    "  ydata = linear(xdata, *params) + np.random.normal(0, 0.2)\n",
    "  return xdata, ydata\n",
    "\n",
    "\n",
    "lmin = 10**3\n",
    "lmax = 10**6\n",
    "nlengths = 20\n",
    "lengths = np.linspace(lmin, lmax, nlengths, dtype=int)\n",
    "\n",
    "jcf = CurveFit()\n",
    "jax_fit_times = []\n",
    "for length in lengths:\n",
    "  xdata, ydata = get_random_data(length)\n",
    "\n",
    "  start_time = time.time()\n",
    "  popt1, pcov1 = jcf.curve_fit(linear, xdata, ydata, p0=(1,1))\n",
    "  jax_fit_times.append(time.time() - start_time)\n",
    "\n",
    "print('Summed Fit Times', np.sum(jax_fit_times))\n",
    "\n",
    "plt.figure()\n",
    "plt.title('Fit Speeds')\n",
    "plt.plot(lengths, jax_fit_times, label='JAXFit')\n",
    "plt.xlabel('Data Length')\n",
    "plt.ylabel('Fit Time (seconds)')"
   ]
  },
  {
   "cell_type": "markdown",
   "metadata": {
    "id": "D12BzMmqBgQ-"
   },
   "source": [
    "The fit speed is slow for every fit. This is because JAX must retrace a function whenever the size of the input array changes. However, JAXFit has a clever way of getting around this. We set a fixed data size (which should be greater than or equal to the largest data we'll fit) and then we use dummy data behind the scenes to keep the array sizes fixed.\n",
    "\n",
    "We do the same fits as above, but this time we set a fixed array size length when we instantiate the CurveFit object."
   ]
  },
  {
   "cell_type": "code",
   "execution_count": 8,
   "metadata": {
    "colab": {
     "base_uri": "https://localhost:8080/",
     "height": 330
    },
    "id": "1snHEE-c8RGa",
    "outputId": "7afc32bd-c36b-4e3b-c936-7dcc752416b6"
   },
   "outputs": [
    {
     "name": "stdout",
     "output_type": "stream",
     "text": [
      "Summed Fit Times 1.214690923690796\n"
     ]
    },
    {
     "data": {
      "text/plain": [
       "Text(0, 0.5, 'Fit Time (seconds)')"
      ]
     },
     "execution_count": 8,
     "metadata": {},
     "output_type": "execute_result"
    },
    {
     "data": {
      "image/png": "[encoded data removed]",
      "text/plain": [
       "<Figure size 432x288 with 1 Axes>"
      ]
     },
     "metadata": {
      "needs_background": "light"
     },
     "output_type": "display_data"
    }
   ],
   "source": [
    "fixed_length = np.amax(lengths)\n",
    "jcf = CurveFit(flength=fixed_length)\n",
    "\n",
    "jax_fit_times = []\n",
    "for length in lengths:\n",
    "  xdata, ydata = get_random_data(length)\n",
    "\n",
    "  start_time = time.time()\n",
    "  popt1, pcov1 = jcf.curve_fit(linear, xdata, ydata, p0=(1,1))\n",
    "  jax_fit_times.append(time.time() - start_time)\n",
    "\n",
    "print('Summed Fit Times', np.sum(jax_fit_times))\n",
    "\n",
    "plt.figure()\n",
    "plt.title('Fit Speeds')\n",
    "plt.plot(lengths, jax_fit_times, label='JAXFit')\n",
    "plt.xlabel('Data Length')\n",
    "plt.ylabel('Fit Time (seconds)')"
   ]
  },
  {
   "cell_type": "markdown",
   "metadata": {
    "id": "wYTGM1QqCO3A"
   },
   "source": [
    "Our fits now run extremely fast irrespective of the datasize. There is a slight caveat to this in that the speed of the fits is always that of the fixed data size even if our actual data is smaller. \n",
    "\n",
    "If you have two drastically different data sizes in your analysis however, you can instantiate two different CurveFit objects to get an overall fit speedup."
   ]
  },
  {
   "cell_type": "code",
   "execution_count": 9,
   "metadata": {
    "colab": {
     "base_uri": "https://localhost:8080/",
     "height": 312
    },
    "id": "3gLRt4LiCNzM",
    "outputId": "88de3e75-2e7f-4b42-f30d-d539bc98f5e5"
   },
   "outputs": [
    {
     "data": {
      "text/plain": [
       "Text(0, 0.5, 'Fit Time (seconds)')"
      ]
     },
     "execution_count": 9,
     "metadata": {},
     "output_type": "execute_result"
    },
    {
     "data": {
      "image/png": "[encoded data removed]",
      "text/plain": [
       "<Figure size 432x288 with 1 Axes>"
      ]
     },
     "metadata": {
      "needs_background": "light"
     },
     "output_type": "display_data"
    }
   ],
   "source": [
    "lmin = 10**3\n",
    "lmax = 10**6\n",
    "nlengths = 20\n",
    "lengths1 = np.linspace(10**3, 5 * 10**4, nlengths, dtype=int)\n",
    "lengths2 = np.linspace(10**5, 10**6, nlengths, dtype=int)\n",
    "\n",
    "fixed_length1 = np.amax(lengths1)\n",
    "fixed_length2 = np.amax(lengths2)\n",
    "\n",
    "jcf1 = CurveFit(flength=fixed_length1)\n",
    "jcf2 = CurveFit(flength=fixed_length2)\n",
    "\n",
    "jax_fit_times1 = []\n",
    "jax_fit_times2 = []\n",
    "\n",
    "for length1, length2 in zip(lengths1, lengths2):\n",
    "  xdata1, ydata1 = get_random_data(length1)\n",
    "  xdata2, ydata2 = get_random_data(length2)\n",
    "\n",
    "  start_time = time.time()\n",
    "  popt1, pcov1 = jcf1.curve_fit(linear, xdata1, ydata1, p0=(1,1))\n",
    "  jax_fit_times1.append(time.time() - start_time)\n",
    "\n",
    "  start_time = time.time()\n",
    "  popt2, pcov2 = jcf2.curve_fit(linear, xdata2, ydata2, p0=(1,1))\n",
    "  jax_fit_times2.append(time.time() - start_time)\n",
    "\n",
    "plt.figure()\n",
    "plt.title('Fit Speeds')\n",
    "plt.plot(jax_fit_times1, label='Small Data')\n",
    "plt.plot(jax_fit_times2, label='Large Data')\n",
    "plt.legend()\n",
    "\n",
    "plt.xlabel('Fit Iteration')\n",
    "plt.ylabel('Fit Time (seconds)')"
   ]
  },
  {
   "cell_type": "markdown",
   "metadata": {
    "id": "03kIxXmGEvZ1"
   },
   "source": [
    "## Fitting Multiple Functions \n",
    "\n",
    "It's important to instantiate a CurveFit object for each different function you're fitting as well to avoid JAX needing to retrace any underlying functions. First we show what happens if we use the same CurveFit object for two functions."
   ]
  },
  {
   "cell_type": "code",
   "execution_count": 10,
   "metadata": {
    "colab": {
     "base_uri": "https://localhost:8080/",
     "height": 296
    },
    "id": "HjORyJoLFimg",
    "outputId": "8b2c1191-f9e8-4fb3-9ee1-7de00e82fc52"
   },
   "outputs": [
    {
     "name": "stdout",
     "output_type": "stream",
     "text": [
      "Summed Fit Times 8.365868330001831\n"
     ]
    },
    {
     "data": {
      "image/png": "[encoded data removed]",
      "text/plain": [
       "<Figure size 432x288 with 1 Axes>"
      ]
     },
     "metadata": {
      "needs_background": "light"
     },
     "output_type": "display_data"
    }
   ],
   "source": [
    "import jax.numpy as jnp\n",
    "\n",
    "def quad_exp(x, a, b, c, d):\n",
    "  return a * x**2 + b * x + c + jnp.exp(d)\n",
    "\n",
    "length = 3 * 10**5\n",
    "x = np.linspace(0, 10, length)\n",
    "\n",
    "jcf = CurveFit()\n",
    "nsamples = 21\n",
    "\n",
    "all_linear_params = np.random.random(size=(nsamples, 2))\n",
    "all_quad_params = np.random.random(size=(nsamples, 4))\n",
    "\n",
    "linear_fit_times = []\n",
    "quad_fit_times = []\n",
    "for i in range(nsamples):\n",
    "  y_linear = linear(x, *all_linear_params[i]) + np.random.normal(0, 0.2, size=length)\n",
    "  y_quad = quad_exp(x, *all_quad_params[i]) + np.random.normal(0, 0.2, size=length)\n",
    "\n",
    "  # fit the data\n",
    "  start_time = time.time()\n",
    "  popt1, pcov1 = jcf.curve_fit(linear, x, y_linear, p0=(.5,.5,))\n",
    "  linear_fit_times.append(time.time() - start_time)\n",
    "\n",
    "  start_time = time.time()\n",
    "  popt2, pcov2 = jcf.curve_fit(quad_exp, x, y_quad, p0=(.5,.5,.5,.5))\n",
    "  quad_fit_times.append(time.time() - start_time)\n",
    "\n",
    "print('Summed Fit Times', np.sum(linear_fit_times + quad_fit_times))\n",
    "\n",
    "plt.figure()\n",
    "plt.plot(linear_fit_times, label='Linear Function')\n",
    "plt.plot(quad_fit_times, label='Quad Function')\n",
    "plt.xlabel('Fit Iteration')\n",
    "plt.ylabel('Fit Time (seconds)')\n",
    "plt.legend()\n",
    "plt.show()"
   ]
  },
  {
   "cell_type": "markdown",
   "metadata": {
    "id": "4vUYuzpdGkic"
   },
   "source": [
    "And we see that by using the same fit object retracing is occuring for every fit. Now we instantiate two separate CurveFit objects for the two functions."
   ]
  },
  {
   "cell_type": "code",
   "execution_count": 11,
   "metadata": {
    "colab": {
     "base_uri": "https://localhost:8080/",
     "height": 296
    },
    "id": "FF_xU3kPGd-m",
    "outputId": "ca7800ae-9d9a-4c04-d867-65a6fe29e67d"
   },
   "outputs": [
    {
     "name": "stdout",
     "output_type": "stream",
     "text": [
      "Summed Fit Times 1.8181967735290527\n"
     ]
    },
    {
     "data": {
      "image/png": "[encoded data removed]",
      "text/plain": [
       "<Figure size 432x288 with 1 Axes>"
      ]
     },
     "metadata": {
      "needs_background": "light"
     },
     "output_type": "display_data"
    }
   ],
   "source": [
    "jcf_linear = CurveFit()\n",
    "jcf_quad = CurveFit()\n",
    "\n",
    "\n",
    "linear_fit_times = []\n",
    "quad_fit_times = []\n",
    "for i in range(nsamples):\n",
    "\n",
    "  y_linear = linear(x, *all_linear_params[i]) + np.random.normal(0, 0.2, size=length)\n",
    "  y_quad = quad_exp(x, *all_quad_params[i]) + np.random.normal(0, 0.2, size=length)\n",
    "\n",
    "  # fit the data\n",
    "  start_time = time.time()\n",
    "  popt1, pcov1 = jcf_linear.curve_fit(linear, x, y_linear, p0=(.5,.5,))\n",
    "  linear_fit_times.append(time.time() - start_time)\n",
    "\n",
    "  start_time = time.time()\n",
    "  popt2, pcov2 = jcf_quad.curve_fit(quad_exp, x, y_quad, p0=(.5,.5,.5,.5))\n",
    "  quad_fit_times.append(time.time() - start_time)\n",
    "\n",
    "print('Summed Fit Times', np.sum(linear_fit_times + quad_fit_times))\n",
    "\n",
    "plt.figure()\n",
    "plt.plot(linear_fit_times, label='Linear Function')\n",
    "plt.plot(quad_fit_times, label='Quad Function')\n",
    "plt.xlabel('Fit Iteration')\n",
    "plt.ylabel('Fit Time (seconds)')\n",
    "plt.legend()\n",
    "plt.show()"
   ]
  },
  {
   "cell_type": "markdown",
   "metadata": {
    "id": "SbbQb27eHwKN"
   },
   "source": [
    "And now retracing is only occuring for the first fit for each CurveFit object."
   ]
  },
  {
   "cell_type": "markdown",
   "metadata": {
    "id": "oRYFHgN9FOZ6"
   },
   "source": [
    "## JAXFit vs. SciPy Fit Speed\n",
    "\n",
    "Finally, let's compare the speed of JAXFit against SciPy."
   ]
  },
  {
   "cell_type": "code",
   "execution_count": 12,
   "metadata": {
    "colab": {
     "base_uri": "https://localhost:8080/",
     "height": 347
    },
    "id": "96DbDCYqD6Ej",
    "outputId": "8bc00407-ef59-49b9-cb5f-9b6e06a677c9"
   },
   "outputs": [
    {
     "name": "stderr",
     "output_type": "stream",
     "text": [
      "/usr/local/lib/python3.8/dist-packages/scipy/optimize/minpack.py:833: OptimizeWarning: Covariance of the parameters could not be estimated\n",
      "  warnings.warn('Covariance of the parameters could not be estimated',\n"
     ]
    },
    {
     "data": {
      "text/plain": [
       "Text(0, 0.5, 'Fit Time (seconds)')"
      ]
     },
     "execution_count": 12,
     "metadata": {},
     "output_type": "execute_result"
    },
    {
     "data": {
      "image/png": "[encoded data removed]",
      "text/plain": [
       "<Figure size 432x288 with 1 Axes>"
      ]
     },
     "metadata": {
      "needs_background": "light"
     },
     "output_type": "display_data"
    }
   ],
   "source": [
    "import jax.numpy as jnp\n",
    "  \n",
    "length = 3 * 10**5\n",
    "x = np.linspace(0, 10, length)\n",
    "\n",
    "jcf = CurveFit()\n",
    "jax_fit_times = []\n",
    "scipy_fit_times = []\n",
    "nsamples = 21\n",
    "\n",
    "all_params = np.random.random(size=(nsamples, 4))\n",
    "\n",
    "for i in range(nsamples):\n",
    "  params = get_random_parameters()\n",
    "  y = quad_exp(x, *all_params[i]) + np.random.normal(0, 0.2, size=length)\n",
    "\n",
    "  # fit the data\n",
    "  start_time = time.time()\n",
    "  popt1, pcov1 = jcf.curve_fit(quad_exp, x, y, p0=(.5,.5,.5,.5))\n",
    "  jax_fit_times.append(time.time() - start_time)\n",
    "\n",
    "  start_time = time.time()\n",
    "  popt2, pcov2 = curve_fit(quad_exp, x, y, p0=(.5,.5,.5,.5))\n",
    "  scipy_fit_times.append(time.time() - start_time)\n",
    "\n",
    "plt.figure()\n",
    "plt.title('Fit Speeds')\n",
    "plt.plot(jax_fit_times, label='JAXFit')\n",
    "plt.plot(scipy_fit_times, label='SciPy')\n",
    "plt.legend()\n",
    "plt.xlabel('Fit Iteration')\n",
    "plt.ylabel('Fit Time (seconds)')\n"
   ]
  },
  {
   "cell_type": "markdown",
   "metadata": {
    "id": "hmH0vza-Fek7"
   },
   "source": [
    "And we see it's so much faster minus the first fit in which tracing is occuring. Thus, by avoiding retracing and utilizing the GPU we get super fast fitting."
   ]
  }
 ],
 "metadata": {
  "accelerator": "GPU",
  "colab": {
   "name": "JAXFit Quickstart.ipynb",
   "provenance": []
  },
  "gpuClass": "premium",
  "kernelspec": {
   "display_name": "Python 3 (ipykernel)",
   "language": "python",
   "name": "python3"
  },
  "language_info": {
   "codemirror_mode": {
    "name": "ipython",
    "version": 3
   },
   "file_extension": ".py",
   "mimetype": "text/x-python",
   "name": "python",
   "nbconvert_exporter": "python",
   "pygments_lexer": "ipython3",
   "version": "3.9.13"
  }
 },
 "nbformat": 4,
 "nbformat_minor": 1
}
